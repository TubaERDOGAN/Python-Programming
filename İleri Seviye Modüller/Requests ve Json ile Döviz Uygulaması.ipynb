
    "Döviz Uygulaması Kodu:\n"
   ]
  },
  {
   "cell_type": "code",
   "execution_count": null,
   "metadata": {
    "collapsed": true
   },
   "outputs": [],
   "source": [
    "import requests\n",
    "\n",
    "\n",
    "url = \"http://api.fixer.io/latest?base=\"\n",
    "\n",
    "birinci_doviz = input(\"Birinci Döviz:\")\n",
    "\n",
    "ikinci_doviz = input(\"İkinci Döviz:\")\n",
    "\n",
    "miktar =  float(input(\"Miktar\"))\n",
    "\n",
    "\n",
    "response = requests.get(url + birinci_doviz)\n",
    "\n",
    "\n",
    "veri =  response.json()\n",
    "\n",
    "try:\n",
    "    print(float(veri[\"rates\"][ikinci_doviz]) * miktar)\n",
    "except KeyError:\n",
    "    print(\"Lütfen para birimlerini kontrol edin\")\n"
   ]
  }
 ],
 "metadata": {
  "kernelspec": {
   "display_name": "Python 3",
   "language": "python",
   "name": "python3"
  },
  "language_info": {
   "codemirror_mode": {
    "name": "ipython",
    "version": 3
   },
   "file_extension": ".py",
   "mimetype": "text/x-python",
   "name": "python",
   "nbconvert_exporter": "python",
   "pygments_lexer": "ipython3",
   "version": "3.6.1"
  }
 },
 "nbformat": 4,
 "nbformat_minor": 2
}
